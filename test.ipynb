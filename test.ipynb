{
 "cells": [
  {
   "cell_type": "code",
   "execution_count": null,
   "metadata": {},
   "outputs": [],
   "source": [
    "import speech_recognition as sr\n",
    "import sys\n",
    "from datetime import date\n",
    "\n",
    "recognizer = sr.Recognizer()\n",
    "print(\"Say something for 5 seconds:\")\n",
    "with sr.Microphone() as source:\n",
    "    audio_data = recognizer.record(source, duration=5) # just made it five seconds here for testing. \n",
    "    print(\"Recognizing...\")\n",
    "    text = recognizer.recognize_google(audio_data)\n",
    "    print(\"Your Input:\" , text)\n",
    "    possible_dates = [\"date\", \"today\", \"month\", \"day\", \"today's\"]\n",
    "\n",
    "    text_list = (text.split(' '))\n",
    "  \n",
    "    for i in text_list:\n",
    "      for j in possible_dates:\n",
    "        if i == j:\n",
    "          today = date.today()\n",
    "          d2 = today.strftime(\"%B %d, %Y\")\n",
    "          print(d2)\n",
    "          exit(0)"
   ]
  }
 ],
 "metadata": {
  "interpreter": {
   "hash": "265fff52c8315b46be42732c6f4f5fcd1a498b7f4a56d2c69154d4a7d2a66bf7"
  },
  "kernelspec": {
   "display_name": "Python 3.8.6 64-bit",
   "name": "python3"
  },
  "language_info": {
   "codemirror_mode": {
    "name": "ipython",
    "version": 3
   },
   "file_extension": ".py",
   "mimetype": "text/x-python",
   "name": "python",
   "nbconvert_exporter": "python",
   "pygments_lexer": "ipython3",
   "version": "3.8.6"
  }
 },
 "nbformat": 4,
 "nbformat_minor": 4
}
